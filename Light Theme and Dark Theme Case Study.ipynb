{
 "cells": [
  {
   "cell_type": "markdown",
   "id": "f4135805",
   "metadata": {},
   "source": [
    "### Light Theme and Dark Theme: Case Study"
   ]
  },
  {
   "cell_type": "code",
   "execution_count": 7,
   "id": "6c831ee3",
   "metadata": {},
   "outputs": [
    {
     "data": {
      "text/html": [
       "<div>\n",
       "<style scoped>\n",
       "    .dataframe tbody tr th:only-of-type {\n",
       "        vertical-align: middle;\n",
       "    }\n",
       "\n",
       "    .dataframe tbody tr th {\n",
       "        vertical-align: top;\n",
       "    }\n",
       "\n",
       "    .dataframe thead th {\n",
       "        text-align: right;\n",
       "    }\n",
       "</style>\n",
       "<table border=\"1\" class=\"dataframe\">\n",
       "  <thead>\n",
       "    <tr style=\"text-align: right;\">\n",
       "      <th></th>\n",
       "      <th>Theme</th>\n",
       "      <th>Click Through Rate</th>\n",
       "      <th>Conversion Rate</th>\n",
       "      <th>Bounce Rate</th>\n",
       "      <th>Scroll_Depth</th>\n",
       "      <th>Age</th>\n",
       "      <th>Location</th>\n",
       "      <th>Session_Duration</th>\n",
       "      <th>Purchases</th>\n",
       "      <th>Added_to_Cart</th>\n",
       "    </tr>\n",
       "  </thead>\n",
       "  <tbody>\n",
       "    <tr>\n",
       "      <th>0</th>\n",
       "      <td>Light Theme</td>\n",
       "      <td>0.054920</td>\n",
       "      <td>0.282367</td>\n",
       "      <td>0.405085</td>\n",
       "      <td>72.489458</td>\n",
       "      <td>25</td>\n",
       "      <td>Chennai</td>\n",
       "      <td>1535</td>\n",
       "      <td>No</td>\n",
       "      <td>Yes</td>\n",
       "    </tr>\n",
       "    <tr>\n",
       "      <th>1</th>\n",
       "      <td>Light Theme</td>\n",
       "      <td>0.113932</td>\n",
       "      <td>0.032973</td>\n",
       "      <td>0.732759</td>\n",
       "      <td>61.858568</td>\n",
       "      <td>19</td>\n",
       "      <td>Pune</td>\n",
       "      <td>303</td>\n",
       "      <td>No</td>\n",
       "      <td>Yes</td>\n",
       "    </tr>\n",
       "    <tr>\n",
       "      <th>2</th>\n",
       "      <td>Dark Theme</td>\n",
       "      <td>0.323352</td>\n",
       "      <td>0.178763</td>\n",
       "      <td>0.296543</td>\n",
       "      <td>45.737376</td>\n",
       "      <td>47</td>\n",
       "      <td>Chennai</td>\n",
       "      <td>563</td>\n",
       "      <td>Yes</td>\n",
       "      <td>Yes</td>\n",
       "    </tr>\n",
       "    <tr>\n",
       "      <th>3</th>\n",
       "      <td>Light Theme</td>\n",
       "      <td>0.485836</td>\n",
       "      <td>0.325225</td>\n",
       "      <td>0.245001</td>\n",
       "      <td>76.305298</td>\n",
       "      <td>58</td>\n",
       "      <td>Pune</td>\n",
       "      <td>385</td>\n",
       "      <td>Yes</td>\n",
       "      <td>No</td>\n",
       "    </tr>\n",
       "    <tr>\n",
       "      <th>4</th>\n",
       "      <td>Light Theme</td>\n",
       "      <td>0.034783</td>\n",
       "      <td>0.196766</td>\n",
       "      <td>0.765100</td>\n",
       "      <td>48.927407</td>\n",
       "      <td>25</td>\n",
       "      <td>New Delhi</td>\n",
       "      <td>1437</td>\n",
       "      <td>No</td>\n",
       "      <td>No</td>\n",
       "    </tr>\n",
       "  </tbody>\n",
       "</table>\n",
       "</div>"
      ],
      "text/plain": [
       "         Theme  Click Through Rate  Conversion Rate  Bounce Rate  \\\n",
       "0  Light Theme            0.054920         0.282367     0.405085   \n",
       "1  Light Theme            0.113932         0.032973     0.732759   \n",
       "2   Dark Theme            0.323352         0.178763     0.296543   \n",
       "3  Light Theme            0.485836         0.325225     0.245001   \n",
       "4  Light Theme            0.034783         0.196766     0.765100   \n",
       "\n",
       "   Scroll_Depth  Age   Location  Session_Duration Purchases Added_to_Cart  \n",
       "0     72.489458   25    Chennai              1535        No           Yes  \n",
       "1     61.858568   19       Pune               303        No           Yes  \n",
       "2     45.737376   47    Chennai               563       Yes           Yes  \n",
       "3     76.305298   58       Pune               385       Yes            No  \n",
       "4     48.927407   25  New Delhi              1437        No            No  "
      ]
     },
     "execution_count": 7,
     "metadata": {},
     "output_type": "execute_result"
    }
   ],
   "source": [
    "# Import the  necessary libraries\n",
    "import pandas as pd\n",
    "import numpy as np\n",
    "import matplotlib.pyplot as plt \n",
    "\n",
    "# import the dataset\n",
    "df=pd.read_csv('website_ab_test.csv')\n",
    "df.head()"
   ]
  },
  {
   "cell_type": "code",
   "execution_count": 3,
   "id": "1b001cfb",
   "metadata": {},
   "outputs": [
    {
     "data": {
      "text/plain": [
       "{'Number of rows': 1000,\n",
       " 'Number of columns': 10,\n",
       " 'Missing values summary': Theme                 0\n",
       " Click Through Rate    0\n",
       " Conversion Rate       0\n",
       " Bounce Rate           0\n",
       " Scroll_Depth          0\n",
       " Age                   0\n",
       " Location              0\n",
       " Session_Duration      0\n",
       " Purchases             0\n",
       " Added_to_Cart         0\n",
       " dtype: int64,\n",
       " 'Summary of numerical columns':        Click Through Rate  Conversion Rate  Bounce Rate  Scroll_Depth  \\\n",
       " count         1000.000000      1000.000000  1000.000000   1000.000000   \n",
       " mean             0.256048         0.253312     0.505758     50.319494   \n",
       " std              0.139265         0.139092     0.172195     16.895269   \n",
       " min              0.010767         0.010881     0.200720     20.011738   \n",
       " 25%              0.140794         0.131564     0.353609     35.655167   \n",
       " 50%              0.253715         0.252823     0.514049     51.130712   \n",
       " 75%              0.370674         0.373040     0.648557     64.666258   \n",
       " max              0.499989         0.498916     0.799658     79.997108   \n",
       " \n",
       "                Age  Session_Duration  \n",
       " count  1000.000000       1000.000000  \n",
       " mean     41.528000        924.999000  \n",
       " std      14.114334        508.231723  \n",
       " min      18.000000         38.000000  \n",
       " 25%      29.000000        466.500000  \n",
       " 50%      42.000000        931.000000  \n",
       " 75%      54.000000       1375.250000  \n",
       " max      65.000000       1797.000000  ,\n",
       " 'Data types of each column': Theme                  object\n",
       " Click Through Rate    float64\n",
       " Conversion Rate       float64\n",
       " Bounce Rate           float64\n",
       " Scroll_Depth          float64\n",
       " Age                     int64\n",
       " Location               object\n",
       " Session_Duration        int64\n",
       " Purchases              object\n",
       " Added_to_Cart          object\n",
       " dtype: object}"
      ]
     },
     "execution_count": 3,
     "metadata": {},
     "output_type": "execute_result"
    }
   ],
   "source": [
    "# Summary of the dataset\n",
    "Data_summary= {\n",
    "    'Number of rows': df.shape[0],\n",
    "    'Number of columns': df.shape[1],\n",
    "    'Missing values summary': df.isnull().sum(),\n",
    "    'Summary of numerical columns': df.describe(),\n",
    "    'Data types of each column': df.dtypes\n",
    "}\n",
    "Data_summary"
   ]
  },
  {
   "cell_type": "markdown",
   "id": "2ca2b090",
   "metadata": {},
   "source": [
    "From the above we can summarise our data thus:\n",
    "Click through rate ranges between 0.010767 and 0.499989, mean of  0.256048\n",
    "Conversion Rate between 0.010881 and 0.498916 mean of  0.253312\n",
    "Bounce Rate 0.200720 and  0.799658  mean of 0.505758\n",
    "Scroll_Depth 20.011738, 79.997108 mean of 50.319494\n",
    "Age 18.000000, 65.000000  mean of 41.528000\n",
    "Session_Duration 38.000000,1797.000000  mean of 924.999000"
   ]
  },
  {
   "cell_type": "code",
   "execution_count": null,
   "id": "fd210ec6-1f85-460b-b77a-7f8624a6be65",
   "metadata": {},
   "outputs": [],
   "source": []
  },
  {
   "cell_type": "code",
   "execution_count": 4,
   "id": "354d563a",
   "metadata": {},
   "outputs": [
    {
     "name": "stdout",
     "output_type": "stream",
     "text": [
      "             Click Through Rate  Conversion Rate  Bounce Rate  Scroll_Depth  \\\n",
      "Theme                                                                         \n",
      "Light Theme            0.247109         0.255459     0.499035     50.735232   \n",
      "Dark Theme             0.264501         0.251282     0.512115     49.926404   \n",
      "\n",
      "                   Age  Session_Duration  \n",
      "Theme                                     \n",
      "Light Theme  41.734568        930.833333  \n",
      "Dark Theme   41.332685        919.482490  \n"
     ]
    }
   ],
   "source": [
    "# To identify our metrics\n",
    "\n",
    "df_numerical=df[['Theme','Click Through Rate', 'Conversion Rate', 'Bounce Rate', 'Scroll_Depth','Age', 'Session_Duration']] # To select the numerical columns for aggregations\n",
    "\n",
    "Theme_performance=df_numerical.groupby('Theme').mean() #Group by theme\n",
    "\n",
    "Theme_performance_sorted= Theme_performance.sort_values(by='Conversion Rate',ascending=False) #Sort the values in descending order\n",
    "print(Theme_performance_sorted)"
   ]
  },
  {
   "cell_type": "markdown",
   "id": "8e37bbd8-9c03-43d1-87d7-474c876def35",
   "metadata": {},
   "source": [
    "From the comparison of both themes we can note that:"
   ]
  },
  {
   "cell_type": "markdown",
   "id": "aa2ea905-0fa6-426d-b97b-d28683a7058e",
   "metadata": {},
   "source": [
    "Firstly, we define our null hypothesis and our alternative hypothesis\n",
    "* Null hypothesis:There is no difference in Conversion Rate between the Light team and Dark theme.\n",
    "    \n",
    "* Alternative hypothesis:There is a differnece in Conversion Rate between the Light team and Dark theme.\n",
    "\n",
    "# Then we choose\n",
    "--for this test we will be using a right tailed test."
   ]
  },
  {
   "cell_type": "code",
   "execution_count": 24,
   "id": "679dbdba-e19d-40c1-a75a-bc9c9b8d6990",
   "metadata": {},
   "outputs": [
    {
     "data": {
      "text/plain": [
       "(0.4748494462782632, 0.6349982678451778)"
      ]
     },
     "execution_count": 24,
     "metadata": {},
     "output_type": "execute_result"
    }
   ],
   "source": [
    "# We extract the conversion rate in the light team and dark team\n",
    "Conversion_rate_light= df[df['Theme']=='Light Theme']['Conversion Rate']\n",
    "Conversion_rate_dark= df[df['Theme']=='Dark Theme']['Conversion Rate']\n",
    "\n",
    "from scipy.stats import ttest_ind\n",
    "\n",
    "t_stat, p_value = ttest_ind(Conversion_rate_light, Conversion_rate_dark, equal_var=False)\n",
    "\n",
    "t_stat, p_value"
   ]
  },
  {
   "cell_type": "code",
   "execution_count": null,
   "id": "13ab68e5-3b08-4fd9-9906-21db7767a447",
   "metadata": {},
   "outputs": [],
   "source": []
  },
  {
   "cell_type": "code",
   "execution_count": 17,
   "id": "b7585ba1-2f20-4bbd-aed5-8f7a14fa1189",
   "metadata": {},
   "outputs": [
    {
     "data": {
      "image/png": "[encoded data removed]",
      "text/plain": [
       "<Figure size 640x480 with 1 Axes>"
      ]
     },
     "metadata": {},
     "output_type": "display_data"
    }
   ],
   "source": [
    "#We create a bar plot to check if the metrics selected is normally distributed\n",
    "mean=0.253312\n",
    "standard_deviation= 0.139092\n",
    "size=1000\n",
    "\n",
    "# Creating a normal distribution data\n",
    "values = np.random.normal(mean, standard_deviation, size)\n",
    "# plotting our histogram\n",
    "plt.hist(values, 150)\n",
    "# plotting our mean line\n",
    "plt.axvline(values.mean(), color='k', linestyle='dashed', linewidth=2)\n",
    "plt.show()"
   ]
  },
  {
   "cell_type": "code",
   "execution_count": 19,
   "id": "ca839e6d-0258-4d82-8f66-1a84775c441f",
   "metadata": {},
   "outputs": [],
   "source": [
    "#From our plot above we can say that our data is normally distributed.\n",
    "#Next we choose a significance level.\n",
    "alpha=0.05\n",
    "\n",
    "from scipy.stats import norm"
   ]
  },
  {
   "cell_type": "code",
   "execution_count": 21,
   "id": "455a9a5b-3a43-4556-b5df-1a3d9e6194e9",
   "metadata": {},
   "outputs": [
    {
     "name": "stdout",
     "output_type": "stream",
     "text": [
      "0.2533121625564122\n",
      "1000\n"
     ]
    }
   ],
   "source": [
    "mean=0.253312\n",
    "standard_deviation= 0.139092\n",
    "size=1000\n",
    "\n",
    "sample_mean=np.mean(df_numerical['Conversion Rate'])\n",
    "sample_size=len(df_numerical)\n",
    "print(sample_mean)\n",
    "print(sample_size)\n",
    "# Calculate the zscore\n",
    "numerator=sample_mean-mean\n",
    "denominator=standard_deviation/np.sqrt(sample_size)\n",
    "\n",
    "z_score=numerator/denominator"
   ]
  },
  {
   "cell_type": "code",
   "execution_count": null,
   "id": "66b7e5af-7c06-4cfb-9f2f-058dd0ecafb1",
   "metadata": {},
   "outputs": [],
   "source": []
  }
 ],
 "metadata": {
  "kernelspec": {
   "display_name": "Python 3 (ipykernel)",
   "language": "python",
   "name": "python3"
  },
  "language_info": {
   "codemirror_mode": {
    "name": "ipython",
    "version": 3
   },
   "file_extension": ".py",
   "mimetype": "text/x-python",
   "name": "python",
   "nbconvert_exporter": "python",
   "pygments_lexer": "ipython3",
   "version": "3.12.4"
  }
 },
 "nbformat": 4,
 "nbformat_minor": 5
}
